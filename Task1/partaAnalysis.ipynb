{
 "cells": [
  {
   "cell_type": "code",
   "execution_count": 2,
   "metadata": {},
   "outputs": [],
   "source": [
    "import re\n",
    "import os\n",
    "import pandas as pd\n",
    "import matplotlib.pyplot as plt"
   ]
  },
  {
   "cell_type": "code",
   "execution_count": null,
   "metadata": {},
   "outputs": [],
   "source": [
    "file_path='results/experiment_a/cc_reno/h1_client.log'\n",
    "p =10\n",
    "df_list = [0]*p\n",
    "df_list = [pd.DataFrame(columns=['time','transfer_rate','bitrate','retransmission', 'cwnd']) for i in range(10)]\n",
    "with open(file_path, 'r') as f:\n",
    "    for i, line in enumerate(f):\n",
    "        idx = i-12\n",
    "        if idx < 0:\n",
    "            continue\n",
    "        if idx % 12 == 10 || idx % 12 == 11:\n",
    "            continue\n",
    "        \n",
    "        # Extract the data from the line\n",
    "        line = line[6:].strip().split(\" \")\n",
    "        \n",
    "        # Append the data to the corresponding df\n",
    "        df_list[(idx)%12] = pd.concat([df_list[(idx)%12], pd.DataFrame([{'time': (idx)//12, 'transfer_rate': float(line[5]), 'bitrate': float(line[8]), 'retransmission': float(line[12]), 'cwnd': float(line[15])}])], ignore_index=True)\n",
    "        print(line)\n",
    "        print(df_list[(idx)%12])\n",
    "        break"
   ]
  },
  {
   "cell_type": "code",
   "execution_count": null,
   "metadata": {},
   "outputs": [
    {
     "name": "stdout",
     "output_type": "stream",
     "text": [
      "['0.00-1.00', '', '', 'sec', '', '1.25', 'MBytes', '', '10.5', 'Mbits/sec', '', '', '10', '', '', '56.6', 'KBytes']\n",
      "  time  transfer_rate  bitrate  retransmission  cwnd\n",
      "0    1           1.25     10.5            10.0  56.6\n"
     ]
    },
    {
     "name": "stderr",
     "output_type": "stream",
     "text": [
      "/tmp/ipykernel_6032/702417606.py:13: FutureWarning: The behavior of DataFrame concatenation with empty or all-NA entries is deprecated. In a future version, this will no longer exclude empty or all-NA columns when determining the result dtypes. To retain the old behavior, exclude the relevant entries before the concat operation.\n",
      "  df_list[(idx-2)%p] = pd.concat([df_list[(idx-2)%p], pd.DataFrame([{'time': (idx-2)//p, 'transfer_rate': float(line[5]), 'bitrate': float(line[8]), 'retransmission': float(line[12]), 'cwnd': float(line[15])}])], ignore_index=True)\n"
     ]
    }
   ],
   "source": [
    "file_path='results/experiment_a/cc_reno/h1_client.log'\n",
    "p =10\n",
    "df_list = [0]*p\n",
    "with open(file_path, 'r') as f:\n",
    "    for idx, line in enumerate(f):\n",
    "        if idx <= p+1:\n",
    "            continue\n",
    "        \n",
    "        # Extract the data from the line\n",
    "        line = line[6:].strip().split(\" \")\n",
    "        \n",
    "        # Create a list of 10 dfs\n",
    "        if idx == p+2:\n",
    "            df_list = [pd.DataFrame(columns=['time','transfer_rate','bitrate','retransmission', 'cwnd']) for i in range(10)]\n",
    "        \n",
    "        # Append the data to the corresponding df\n",
    "        df_list[(idx-2)%p] = pd.concat([df_list[(idx-2)%p], pd.DataFrame([{'time': (idx-2)//p, 'transfer_rate': float(line[5]), 'bitrate': float(line[8]), 'retransmission': float(line[12]), 'cwnd': float(line[15])}])], ignore_index=True)\n",
    "        print(line)\n",
    "        print(df_list[(idx-2)%p])\n",
    "        break"
   ]
  },
  {
   "cell_type": "code",
   "execution_count": 24,
   "metadata": {},
   "outputs": [
    {
     "data": {
      "text/html": [
       "<div>\n",
       "<style scoped>\n",
       "    .dataframe tbody tr th:only-of-type {\n",
       "        vertical-align: middle;\n",
       "    }\n",
       "\n",
       "    .dataframe tbody tr th {\n",
       "        vertical-align: top;\n",
       "    }\n",
       "\n",
       "    .dataframe thead th {\n",
       "        text-align: right;\n",
       "    }\n",
       "</style>\n",
       "<table border=\"1\" class=\"dataframe\">\n",
       "  <thead>\n",
       "    <tr style=\"text-align: right;\">\n",
       "      <th></th>\n",
       "      <th>time</th>\n",
       "      <th>transfer_rate</th>\n",
       "      <th>bitrate</th>\n",
       "      <th>retransmission</th>\n",
       "      <th>cwnd</th>\n",
       "    </tr>\n",
       "  </thead>\n",
       "  <tbody>\n",
       "    <tr>\n",
       "      <th>0</th>\n",
       "      <td>1</td>\n",
       "      <td>1.25</td>\n",
       "      <td>10.5</td>\n",
       "      <td>10.0</td>\n",
       "      <td>56.6</td>\n",
       "    </tr>\n",
       "  </tbody>\n",
       "</table>\n",
       "</div>"
      ],
      "text/plain": [
       "  time  transfer_rate  bitrate  retransmission  cwnd\n",
       "0    1           1.25     10.5            10.0  56.6"
      ]
     },
     "execution_count": 24,
     "metadata": {},
     "output_type": "execute_result"
    }
   ],
   "source": [
    "df_list[0]"
   ]
  },
  {
   "cell_type": "code",
   "execution_count": null,
   "metadata": {},
   "outputs": [],
   "source": [
    "def parse_iperf_log(file_path):\n",
    "    \"\"\"\n",
    "    Parse iperf3 log file lines that contain per-interval statistics.\n",
    "    Expected line format (sample):\n",
    "       [  5]   0.00-1.00   sec  1.88 MBytes  15.7 Mbits/sec    0    925 KBytes       \n",
    "    \"\"\"\n",
    "    # Regex to capture: start-end time, transfer (MBytes), throughput (Mbits/sec), retransmissions, cwnd and its unit.\n",
    "    pattern = re.compile(\n",
    "        r'\\[\\s*\\d+\\]\\s+(\\d+\\.\\d+)-(\\d+\\.\\d+)\\s+sec\\s+([\\d\\.]+)\\s+MBytes\\s+([\\d\\.]+)\\s+Mbits/sec\\s+(\\d+)\\s+.*Cwnd\\s+([\\d\\.]+)\\s*(KBytes|MBytes)'\n",
    "    )\n",
    "    data = []\n",
    "    with open(file_path, 'r') as f:\n",
    "        for line in f:\n",
    "            \n",
    "    # return pd.DataFrame(data)\n"
   ]
  },
  {
   "cell_type": "code",
   "execution_count": 12,
   "metadata": {},
   "outputs": [
    {
     "data": {
      "text/html": [
       "<div>\n",
       "<style scoped>\n",
       "    .dataframe tbody tr th:only-of-type {\n",
       "        vertical-align: middle;\n",
       "    }\n",
       "\n",
       "    .dataframe tbody tr th {\n",
       "        vertical-align: top;\n",
       "    }\n",
       "\n",
       "    .dataframe thead th {\n",
       "        text-align: right;\n",
       "    }\n",
       "</style>\n",
       "<table border=\"1\" class=\"dataframe\">\n",
       "  <thead>\n",
       "    <tr style=\"text-align: right;\">\n",
       "      <th></th>\n",
       "    </tr>\n",
       "  </thead>\n",
       "  <tbody>\n",
       "  </tbody>\n",
       "</table>\n",
       "</div>"
      ],
      "text/plain": [
       "Empty DataFrame\n",
       "Columns: []\n",
       "Index: []"
      ]
     },
     "execution_count": 12,
     "metadata": {},
     "output_type": "execute_result"
    }
   ],
   "source": [
    "df=parse_iperf_log('results/experiment_a/cc_reno/h1_client.log')\n",
    "df"
   ]
  },
  {
   "cell_type": "code",
   "execution_count": 13,
   "metadata": {},
   "outputs": [
    {
     "name": "stdout",
     "output_type": "stream",
     "text": [
      "Empty DataFrame\n",
      "Columns: []\n",
      "Index: []\n"
     ]
    }
   ],
   "source": [
    "print(df)"
   ]
  },
  {
   "cell_type": "code",
   "execution_count": 4,
   "metadata": {},
   "outputs": [],
   "source": [
    "def plot_throughput(df, title, output_dir):\n",
    "    \"\"\"Plot throughput over time.\"\"\"\n",
    "    plt.figure(figsize=(8, 4))\n",
    "    plt.plot(df['end'], df['throughput_Mbps'], marker='o', linestyle='-')\n",
    "    plt.xlabel('Time (s)')\n",
    "    plt.ylabel('Throughput (Mbit/s)')\n",
    "    plt.title(title)\n",
    "    plt.grid(True)\n",
    "    plt.savefig(os.path.join(output_dir, f\"{title.replace(' ', '_')}_throughput.png\"))\n",
    "    plt.close()"
   ]
  },
  {
   "cell_type": "code",
   "execution_count": 5,
   "metadata": {},
   "outputs": [],
   "source": [
    "def plot_cwnd(df, title, output_dir):\n",
    "    \"\"\"Plot congestion window (cwnd) over time.\"\"\"\n",
    "    plt.figure(figsize=(8, 4))\n",
    "    plt.plot(df['end'], df['cwnd_bytes'] / 1024, marker='o', linestyle='-', color='green')\n",
    "    plt.xlabel('Time (s)')\n",
    "    plt.ylabel('Cwnd (KBytes)')\n",
    "    plt.title(title)\n",
    "    plt.grid(True)\n",
    "    plt.savefig(os.path.join(output_dir, f\"{title.replace(' ', '_')}_cwnd.png\"))\n",
    "    plt.close()\n"
   ]
  },
  {
   "cell_type": "code",
   "execution_count": 6,
   "metadata": {},
   "outputs": [],
   "source": [
    "def summarize_metrics(df):\n",
    "    \"\"\"Calculate summary metrics.\"\"\"\n",
    "    avg_throughput = df['throughput_Mbps'].mean()\n",
    "    total_retrans = df['retransmissions'].sum()\n",
    "    max_cwnd = df['cwnd_bytes'].max()\n",
    "    \n",
    "    # Goodput: For our purposes we use throughput as a proxy.\n",
    "    goodput = avg_throughput  # In practice, goodput should discount retransmissions\n",
    "    \n",
    "    # Assume a simple model: if we expect no losses then loss rate can be approximated as retransmissions\n",
    "    # divided by an estimated number of segments (here we use a dummy value since real packet counts\n",
    "    # require knowing the MSS and total bytes transferred)\n",
    "    # For example, if each stream transfers 1.88 MB per interval over 10 streams:\n",
    "    total_segments = len(df) * 10 * 100  # dummy estimate; replace with actual calculation if available\n",
    "    loss_rate = (total_retrans / total_segments) * 100  # in percentage\n",
    "    \n",
    "    return avg_throughput, goodput, loss_rate, max_cwnd"
   ]
  },
  {
   "cell_type": "code",
   "execution_count": 7,
   "metadata": {},
   "outputs": [],
   "source": [
    "def process_log_for_cc(cc_folder, cc_name):\n",
    "    \"\"\"\n",
    "    Process the iperf3 log for a given congestion control algorithm.\n",
    "    cc_folder: folder containing the log files (e.g., 'partA' or 'partB')\n",
    "    cc_name: congestion control algorithm name (e.g., 'reno')\n",
    "    \"\"\"\n",
    "    log_file = os.path.join(cc_folder, f\"{cc_name}.txt\")\n",
    "    if not os.path.isfile(log_file):\n",
    "        print(f\"Log file {log_file} not found.\")\n",
    "        return\n",
    "    \n",
    "    df = parse_iperf_log(log_file)\n",
    "    \n",
    "    # Create an output folder for plots\n",
    "    plots_dir = os.path.join(cc_folder, 'plots')\n",
    "    os.makedirs(plots_dir, exist_ok=True)\n",
    "    \n",
    "    # Generate throughput and cwnd plots\n",
    "    plot_throughput(df, f\"{cc_name.upper()} Throughput\", plots_dir)\n",
    "    plot_cwnd(df, f\"{cc_name.upper()} CWND\", plots_dir)\n",
    "    \n",
    "    # Compute summary metrics\n",
    "    avg_tp, goodput, loss_rate, max_cwnd = summarize_metrics(df)\n",
    "    \n",
    "    summary = {\n",
    "        'Congestion Control': cc_name.upper(),\n",
    "        'Average Throughput (Mbit/s)': round(avg_tp, 2),\n",
    "        'Goodput (Mbit/s)': round(goodput, 2),\n",
    "        'Packet Loss Rate (%)': round(loss_rate, 4),\n",
    "        'Max CWND (Bytes)': int(max_cwnd)\n",
    "    }\n",
    "    \n",
    "    return summary, df"
   ]
  },
  {
   "cell_type": "code",
   "execution_count": 10,
   "metadata": {},
   "outputs": [],
   "source": [
    "# Define the folders where logs are stored (change as needed)\n",
    "cc_list = ['reno', 'vegas', 'htcp']\n",
    "# For example, we analyze logs from partA folder:\n",
    "folder = 'results/experiment_a/cc_reno'"
   ]
  },
  {
   "cell_type": "code",
   "execution_count": null,
   "metadata": {},
   "outputs": [],
   "source": [
    "summaries = []\n",
    "for cc in cc_list:\n",
    "    summary, df = process_log_for_cc(folder, cc)\n",
    "    if summary:\n",
    "        summaries.append(summary)\n",
    "        print(f\"Summary for {cc.upper()}:\")\n",
    "        print(summary)\n",
    "        print(\"-\" * 40)\n",
    "\n",
    "# Create a summary table\n",
    "summary_df = pd.DataFrame(summaries)\n",
    "summary_csv = os.path.join(folder, \"summary_metrics.csv\")\n",
    "summary_df.to_csv(summary_csv, index=False)\n",
    "print(f\"Summary metrics saved to {summary_csv}\")"
   ]
  }
 ],
 "metadata": {
  "kernelspec": {
   "display_name": "venv",
   "language": "python",
   "name": "python3"
  },
  "language_info": {
   "codemirror_mode": {
    "name": "ipython",
    "version": 3
   },
   "file_extension": ".py",
   "mimetype": "text/x-python",
   "name": "python",
   "nbconvert_exporter": "python",
   "pygments_lexer": "ipython3",
   "version": "3.12.3"
  }
 },
 "nbformat": 4,
 "nbformat_minor": 2
}
